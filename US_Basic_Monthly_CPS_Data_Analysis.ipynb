{
  "nbformat": 4,
  "nbformat_minor": 0,
  "metadata": {
    "colab": {
      "provenance": []
    },
    "kernelspec": {
      "name": "python3",
      "display_name": "Python 3"
    },
    "language_info": {
      "name": "python"
    }
  },
  "cells": [
    {
      "cell_type": "markdown",
      "source": [
        "__Description__: Insight analysis of the United States Census Bureau's 2017 Basic Monthly CPS for December 2017."
      ],
      "metadata": {
        "id": "RlNBb5r11EVN"
      }
    },
    {
      "cell_type": "markdown",
      "source": [
        "__Setting up__"
      ],
      "metadata": {
        "id": "9daL0aOF1eiE"
      }
    },
    {
      "cell_type": "code",
      "source": [
        "#installing dependencies\n",
        "\n",
        "#!pip install pyspark"
      ],
      "metadata": {
        "id": "MKiQ_jjt1uoV"
      },
      "execution_count": null,
      "outputs": []
    },
    {
      "cell_type": "code",
      "source": [
        "# Importing dependencies\n",
        "\n",
        "from pyspark.sql import SparkSession\n",
        "from pyspark.sql.functions import udf, col, substring, trim, lit, when, date_format, concat_ws\n",
        "from pyspark.sql.types import StringType, IntegerType\n",
        "from pyspark.sql import DataFrame\n",
        "from typing import Dict\n",
        "import re\n",
        "import pandas as pd\n",
        "import numpy as np"
      ],
      "metadata": {
        "id": "-6fV3Ra30zKN"
      },
      "execution_count": null,
      "outputs": []
    },
    {
      "cell_type": "code",
      "source": [
        "\n",
        "var_names = [\"HRHHID\", \"HRMONTH\", \"HRYEAR4\", \"HRHHID2\", \"HUFINAL\", \"HEHOUSUT\", \"HRHTYPE\", \"HETELHHD\", \"HETELAVL\", \"HEPHONEO\", \"HUINTTYP\", \"HEFAMINC\", \"GEDIV\", \"PTDTRACE\"]\n",
        "\n"
      ],
      "metadata": {
        "id": "sCDJ5LM8MX3k"
      },
      "execution_count": null,
      "outputs": []
    },
    {
      "cell_type": "code",
      "source": [
        "# Creating the Spark session\n",
        "spark = SparkSession.builder.appName(\"CPSdec2017Analysis\").getOrCreate()"
      ],
      "metadata": {
        "id": "mewHKneb_Cod"
      },
      "execution_count": null,
      "outputs": []
    },
    {
      "cell_type": "code",
      "source": [
        "# Loading in the data- a .dat file- which is in a fixed-width format, using read.text\n",
        "file_path = \"/content/drive/MyDrive/my assessments/Interswitch assessment/dec17pub/dec17pub.dat\"\n",
        "lines = spark.read.text(file_path).select(\"value\")"
      ],
      "metadata": {
        "id": "pjBO4E9g_DtE"
      },
      "execution_count": null,
      "outputs": []
    },
    {
      "cell_type": "code",
      "source": [
        "# Extracting needed fields\n",
        "# first, defining needed field names and their starting and ending positions\n",
        "fields = [\n",
        "    (\"HRHHID\", 0, 15),            #household identifier1\n",
        "    (\"HRMONTH\", 15, 17),          # month\n",
        "    (\"HRYEAR4\", 17, 21),          # Year\n",
        "    (\"HRHHID2\", 70, 75),          # Household identifier2\n",
        "    (\"HUFINAL\", 23, 26),          # Final outcome\n",
        "    (\"HEHOUSUT\", 30, 32),         # Type of housing unit\n",
        "    (\"HRHTYPE\", 60, 62),          # Household type\n",
        "    (\"HETELHHD\", 32, 34),         # Telephone in household?\n",
        "    (\"HETELAVL\", 34, 36),         # Telephone accessible elsewhere?\n",
        "    (\"HEPHONEO\", 36, 38),         # Telephone interview acceptable?\n",
        "    (\"HUINTTYP\", 64, 66),         # Type of interview\n",
        "    (\"HEFAMINC\", 38, 40),         # Family income\n",
        "    (\"GEDIV\", 90, 91),            # Division - geographical\n",
        "    (\"PTDTRACE\", 138, 140)        # Race\n",
        "]\n",
        "\n",
        "\n",
        "# collecting needed fields using substring and trim\n",
        "cps_data = []\n",
        "for field, start, end in fields:\n",
        "    cps_data.append(substring(trim(col(\"value\")), start + 1, end - start).alias(field))\n",
        "\n",
        "# Now, creating the dataframe\n",
        "cps_2017_df = lines.select(*cps_data)\n",
        "\n",
        "# Combining the Year and month and applying dat_format to convert it into YYYY/MMM format\n",
        "cps_2017_df = cps_2017_df.withColumn(\"YEAR_MONTH\", date_format(concat_ws(\"-\", col(\"HRYEAR4\"), col(\"HRMONTH\"), lit(\"01\")), \"yyyy/MMM\"))\n",
        "\n",
        "# Combining \"HRHHID\" and \"HRHHID2\" to get full_household_id\n",
        "cps_2017_df = cps_2017_df.withColumn(\"FULL_HOUSEHOLD_ID\", concat_ws(\"\", col(\"HRHHID\"), col(\"HRHHID2\")))\n",
        "\n",
        "# dropping individual columns used in the concatenation\n",
        "columns_to_drop = [\"HRYEAR4\", \"HRMONTH\", \"HRHHID\", \"HRHHID2\"]\n",
        "cps_2017_df = cps_2017_df.drop(*columns_to_drop)\n",
        "\n",
        "# Re-arranging columns\n",
        "new_column_order = [\"FULL_HOUSEHOLD_ID\", \"YEAR_MONTH\"] + [col_name for col_name in cps_2017_df.columns if col_name not in (\"FULL_HOUSEHOLD_ID\", \"YEAR_MONTH\")]\n",
        "cps_2017_df = cps_2017_df.select(*new_column_order)\n",
        "\n",
        "# finally, renaming the columns for clarity\n",
        "mapping_for_renaming = {\n",
        "    \"FULL_HOUSEHOLD_ID\":\"household_identifier\",\n",
        "    \"YEAR_MONTH\":\"time_of_interview\",\n",
        "    \"HUFINAL\":\"survey_final_outcome\",\n",
        "    \"HEHOUSUT\":\"type_housing_unit\",\n",
        "    \"HRHTYPE\":\"household type\",\n",
        "    \"HETELHHD\":\"telephone_in_household\",\n",
        "    \"HETELAVL\":\"telephone_accessible_elsewhere\",\n",
        "    \"HEPHONEO\":\"telephone_interview_acceptable\",\n",
        "    \"HUINTTYP\":\"interview_type\",\n",
        "    \"HEFAMINC\":\"family_income_range\",\n",
        "    \"GEDIV\":\"geographical_division\",\n",
        "    \"PTDTRACE\":\"race\"\n",
        "    }\n",
        "\n",
        "for old_col_name, new_col_name in mapping_for_renaming.items():\n",
        "    cps_2017_df = cps_2017_df.withColumnRenamed(old_col_name, new_col_name)\n",
        "\n",
        "# Showing the first 10 rows\n",
        "cps_2017_df.show(10)\n",
        "\n",
        "#filtered_df = cps_2017_df.filter(col(\"race\") == 26)\n",
        "\n",
        "#filtered_df.show(10)"
      ],
      "metadata": {
        "colab": {
          "base_uri": "https://localhost:8080/"
        },
        "id": "eKHrmxHyPWg1",
        "outputId": "208f3559-c72c-4815-e2ea-2a630f6b611d"
      },
      "execution_count": null,
      "outputs": [
        {
          "output_type": "stream",
          "name": "stdout",
          "text": [
            "+--------------------+-----------------+--------------------+-----------------+--------------+----------------------+------------------------------+------------------------------+--------------+-------------------+---------------------+----+\n",
            "|household_identifier|time_of_interview|survey_final_outcome|type_housing_unit|household type|telephone_in_household|telephone_accessible_elsewhere|telephone_interview_acceptable|interview_type|family_income_range|geographical_division|race|\n",
            "+--------------------+-----------------+--------------------+-----------------+--------------+----------------------+------------------------------+------------------------------+--------------+-------------------+---------------------+----+\n",
            "|00000479511071906011|         2017/Dec|                 201|                1|             1|                     1|                            -1|                             1|             2|                  9|                    6|   1|\n",
            "|00000479511071906011|         2017/Dec|                 201|                1|             1|                     1|                            -1|                             1|             2|                  9|                    6|   1|\n",
            "|00007169100494106111|         2017/Dec|                 201|                1|             1|                     1|                            -1|                             1|             1|                 11|                    6|   1|\n",
            "|00007169100494106111|         2017/Dec|                 201|                1|             1|                     1|                            -1|                             1|             1|                 11|                    6|   1|\n",
            "|00007169100494106111|         2017/Dec|                 201|                1|             1|                     1|                            -1|                             1|             1|                 11|                    6|   1|\n",
            "|00011017798798608011|         2017/Dec|                 201|                1|             1|                     1|                            -1|                             1|             1|                 14|                    6|   2|\n",
            "|00011017798798608011|         2017/Dec|                 201|                1|             1|                     1|                            -1|                             1|             1|                 14|                    6|   2|\n",
            "|00011020659338108011|         2017/Dec|                 213|                1|             0|                    -1|                            -1|                             0|             1|                 -1|                    6|  -1|\n",
            "|00011028481568008111|         2017/Dec|                 201|                1|             7|                     1|                            -1|                             1|             1|                  9|                    6|   1|\n",
            "|00011032785646906111|         2017/Dec|                 201|                1|             7|                     1|                            -1|                             1|             1|                  5|                    6|   2|\n",
            "+--------------------+-----------------+--------------------+-----------------+--------------+----------------------+------------------------------+------------------------------+--------------+-------------------+---------------------+----+\n",
            "only showing top 10 rows\n",
            "\n"
          ]
        }
      ]
    },
    {
      "cell_type": "code",
      "source": [
        "# Looking at the number of rows in the data\n",
        "\n",
        "cps_2017_df.count()"
      ],
      "metadata": {
        "colab": {
          "base_uri": "https://localhost:8080/"
        },
        "id": "UCPNIfyVSn6h",
        "outputId": "6aceb61c-77df-41bc-e71c-56ddb9610cef"
      },
      "execution_count": null,
      "outputs": [
        {
          "output_type": "execute_result",
          "data": {
            "text/plain": [
              "146456"
            ]
          },
          "metadata": {},
          "execution_count": 9
        }
      ]
    },
    {
      "cell_type": "markdown",
      "source": [
        "__Before answering the questions__\n",
        "\n",
        "what to note:\n",
        "\n",
        "\n",
        "* First, from the data dictionary, it can be deduced that any value outside those stated to be valid is an \"invalid entry\".\n",
        "\n",
        " So, in answering the questions, where necessary, invalid entries will be filtered out and only valid entries will be considered.\n",
        "\n",
        "\n",
        "*   Second, decoding will be done based on fields required in the questions.\n",
        "\n",
        "\n",
        "\n"
      ],
      "metadata": {
        "id": "jb-n_P4jRmYR"
      }
    },
    {
      "cell_type": "markdown",
      "source": [
        "The questions:\n",
        "\n",
        "1. What is the count of responders per family income range (show all)?\n",
        "2. What is the count of responders per geographical division/location and race\n",
        "3. How many responders do not have telephone in their house, but can access (a telephone elsewhere and telephone interview is accepted? show top 10)?\n",
        "4. How many responders can access a telephone, but telephone interview is not accepted?\n",
        "\n",
        " From the questions listed above, the fields required are:\n",
        "\n",
        "\n",
        "*   family_income_range\n",
        "*   geographical_division\n",
        "*   race\n",
        "*   telephone_in_household\n",
        "*   telephone_accessible_elsewhere\n",
        "*   telephone_interview_acceptable\n",
        "\n",
        "\n",
        "So, some more data preprocessing before answering the questions- __let's decode these fields__\n",
        "\n",
        "\n"
      ],
      "metadata": {
        "id": "CTriJ8LIFTx2"
      }
    },
    {
      "cell_type": "code",
      "source": [
        "# family_income_range dictionary\n",
        "\n",
        "income_range_mapping = {\n",
        "    \"1\": \"LESS THAN $5,000\",\n",
        "    \"2\": \"$5,000 TO $7,499\",\n",
        "    \"3\": \"$7,500 TO $9,999\",\n",
        "    \"4\": \"$10,000 TO $12,499\",\n",
        "    \"5\": \"$12,500 TO $14,999\",\n",
        "    \"6\": \"$15,000 TO $19,999\",\n",
        "    \"7\": \"$20,000 TO $24,999\",\n",
        "    \"8\": \"$25,000 TO $29,999\",\n",
        "    \"9\": \"$30,000 TO $34,999\",\n",
        "    \"10\": \"$35,000 TO $39,999\",\n",
        "    \"11\": \"$40,000 TO $49,999\",\n",
        "    \"12\": \"$50,000 TO $59,999\",\n",
        "    \"13\": \"$60,000 TO $74,999\",\n",
        "    \"14\": \"$75,000 TO $99,999\",\n",
        "    \"15\": \"$100,000 TO $149,999\",\n",
        "    \"16\": \"$150,000 OR MORE\"\n",
        "    }\n",
        "\n",
        "# geographical_division\n",
        "\n",
        "division_mapping = {\n",
        "    \"1\": \"NEW ENGLAND\",\n",
        "    \"2\": \"MIDDLE ATLANTIC\",\n",
        "    \"3\": \"EAST NORTH CENTRAL\",\n",
        "    \"4\": \"WEST NORTH CENTRAL\",\n",
        "    \"5\": \"SOUTH ATLANTIC\",\n",
        "    \"6\": \"EAST SOUTH CENTRAL\",\n",
        "    \"7\": \"WEST SOUTH CENTRAL\",\n",
        "    \"8\": \"MOUNTAIN\",\n",
        "    \"9\": \"PACIFIC\"\n",
        "}\n",
        "\n",
        "# race\n",
        "\n",
        "race_mapping = {\n",
        "    \"1\": \"White Only\",\n",
        "    \"2\": \"Black Only\",\n",
        "    \"3\": \"American Indian, Alaskan Native Only\",\n",
        "    \"4\": \"Asian Only\",\n",
        "    \"5\": \"Hawaiian/Pacific Islander Only\",\n",
        "    \"6\": \"White-Black\",\n",
        "    \"7\": \"White-AI\",\n",
        "    \"8\": \"White-Asian\",\n",
        "    \"9\": \"White-HP\",\n",
        "    \"10\": \"Black-AI\",\n",
        "    \"11\": \"Black-Asian\",\n",
        "    \"12\": \"Black-HP\",\n",
        "    \"13\": \"AI-Asian\",\n",
        "    \"14\": \"AI-HP\",\n",
        "    \"15\": \"Asian-HP\",\n",
        "    \"16\": \"W-B-AI\",\n",
        "    \"17\": \"W-B-A\",\n",
        "    \"18\": \"W-B-HP\",\n",
        "    \"19\": \"W-AI-A\",\n",
        "    \"20\": \"W-AI-HP\",\n",
        "    \"21\": \"W-A-HP\",\n",
        "    \"22\": \"B-AI-A\",\n",
        "    \"23\": \"W-B-AI-A\",\n",
        "    \"24\": \"W-AI-A-HP\",\n",
        "    \"25\": \"Other 3 Race Combinations\",\n",
        "    \"26\": \"Other 4 and 5 Race Combinations\"\n",
        "}\n",
        "\n",
        "# Single \"YES\", \"No\" mapping for the telephone_in_household and telephone_accessible questions- for all telephone-related questions\n",
        "\n",
        "telephone_mapping = {\"1\": \"YES\", \"2\": \"NO\"}\n",
        "\n",
        "\n",
        "# One decoding function\n",
        "def decode_encoded_values(df: DataFrame, column_name: str, mapping: Dict[str, str]) -> DataFrame:\n",
        "    category_udf = udf(lambda x: mapping.get(x.strip(), \"INVALID ENTRY\"), StringType())   # If the value is not in the mapping, tag as \"invalid entry\"\n",
        "    return df.withColumn(column_name, category_udf(trim(col(column_name))))"
      ],
      "metadata": {
        "id": "qH_fRtp-RlWg"
      },
      "execution_count": null,
      "outputs": []
    },
    {
      "cell_type": "code",
      "source": [
        "cps_2017_df.printSchema"
      ],
      "metadata": {
        "colab": {
          "base_uri": "https://localhost:8080/"
        },
        "id": "xVszgD8wjT3p",
        "outputId": "a5dbdb52-9b52-4715-f8fb-46279cafdbca"
      },
      "execution_count": null,
      "outputs": [
        {
          "output_type": "execute_result",
          "data": {
            "text/plain": [
              "<bound method DataFrame.printSchema of DataFrame[household_identifier: string, time_of_interview: string, survey_final_outcome: string, type_housing_unit: string, household type: string, telephone_in_household: string, telephone_accessible_elsewhere: string, telephone_interview_acceptable: string, interview_type: string, family_income_range: string, geographical_division: string, race: string]>"
            ]
          },
          "metadata": {},
          "execution_count": 11
        }
      ]
    },
    {
      "cell_type": "code",
      "source": [
        "# Applying the function for the mappings\n",
        "\n",
        "# family_income_range\n",
        "cps_2017_df = decode_encoded_values(cps_2017_df, \"family_income_range\", income_range_mapping)\n",
        "\n",
        "# geographical_division\n",
        "cps_2017_df = decode_encoded_values(cps_2017_df, \"geographical_division\", division_mapping)\n",
        "\n",
        "# geographical_division\n",
        "cps_2017_df = decode_encoded_values(cps_2017_df, \"race\", race_mapping)\n",
        "\n",
        "# telephone_in_household\n",
        "cps_2017_df = decode_encoded_values(cps_2017_df, \"telephone_in_household\", telephone_mapping)\n",
        "\n",
        "# telephone_accessible_elsewhere\n",
        "cps_2017_df = decode_encoded_values(cps_2017_df, \"telephone_accessible_elsewhere\", telephone_mapping)\n",
        "\n",
        "# telephone_interview_acceptable\n",
        "cps_2017_df = decode_encoded_values(cps_2017_df, \"telephone_interview_acceptable\", telephone_mapping)\n",
        "\n",
        "# Show the DataFrame\n",
        "cps_2017_df.show(10)\n"
      ],
      "metadata": {
        "id": "ZC9ukytyDbo0",
        "colab": {
          "base_uri": "https://localhost:8080/"
        },
        "outputId": "ea8b8155-e09a-4d47-e266-dc19d48a33f0"
      },
      "execution_count": null,
      "outputs": [
        {
          "output_type": "stream",
          "name": "stdout",
          "text": [
            "+--------------------+-----------------+--------------------+-----------------+--------------+----------------------+------------------------------+------------------------------+--------------+-------------------+---------------------+-------------+\n",
            "|household_identifier|time_of_interview|survey_final_outcome|type_housing_unit|household type|telephone_in_household|telephone_accessible_elsewhere|telephone_interview_acceptable|interview_type|family_income_range|geographical_division|         race|\n",
            "+--------------------+-----------------+--------------------+-----------------+--------------+----------------------+------------------------------+------------------------------+--------------+-------------------+---------------------+-------------+\n",
            "|00000479511071906011|         2017/Dec|                 201|                1|             1|                   YES|                 INVALID ENTRY|                           YES|             2| $30,000 TO $34,999|   EAST SOUTH CENTRAL|   White Only|\n",
            "|00000479511071906011|         2017/Dec|                 201|                1|             1|                   YES|                 INVALID ENTRY|                           YES|             2| $30,000 TO $34,999|   EAST SOUTH CENTRAL|   White Only|\n",
            "|00007169100494106111|         2017/Dec|                 201|                1|             1|                   YES|                 INVALID ENTRY|                           YES|             1| $40,000 TO $49,999|   EAST SOUTH CENTRAL|   White Only|\n",
            "|00007169100494106111|         2017/Dec|                 201|                1|             1|                   YES|                 INVALID ENTRY|                           YES|             1| $40,000 TO $49,999|   EAST SOUTH CENTRAL|   White Only|\n",
            "|00007169100494106111|         2017/Dec|                 201|                1|             1|                   YES|                 INVALID ENTRY|                           YES|             1| $40,000 TO $49,999|   EAST SOUTH CENTRAL|   White Only|\n",
            "|00011017798798608011|         2017/Dec|                 201|                1|             1|                   YES|                 INVALID ENTRY|                           YES|             1| $75,000 TO $99,999|   EAST SOUTH CENTRAL|   Black Only|\n",
            "|00011017798798608011|         2017/Dec|                 201|                1|             1|                   YES|                 INVALID ENTRY|                           YES|             1| $75,000 TO $99,999|   EAST SOUTH CENTRAL|   Black Only|\n",
            "|00011020659338108011|         2017/Dec|                 213|                1|             0|         INVALID ENTRY|                 INVALID ENTRY|                 INVALID ENTRY|             1|      INVALID ENTRY|   EAST SOUTH CENTRAL|INVALID ENTRY|\n",
            "|00011028481568008111|         2017/Dec|                 201|                1|             7|                   YES|                 INVALID ENTRY|                           YES|             1| $30,000 TO $34,999|   EAST SOUTH CENTRAL|   White Only|\n",
            "|00011032785646906111|         2017/Dec|                 201|                1|             7|                   YES|                 INVALID ENTRY|                           YES|             1| $12,500 TO $14,999|   EAST SOUTH CENTRAL|   Black Only|\n",
            "+--------------------+-----------------+--------------------+-----------------+--------------+----------------------+------------------------------+------------------------------+--------------+-------------------+---------------------+-------------+\n",
            "only showing top 10 rows\n",
            "\n"
          ]
        }
      ]
    },
    {
      "cell_type": "markdown",
      "source": [
        "__Insight analysis__: Answering the questions"
      ],
      "metadata": {
        "id": "QaR3DWYm6qVA"
      }
    },
    {
      "cell_type": "markdown",
      "source": [
        "__Question 1: What is the count of responders per family income range (show all)?__\n",
        "\n",
        "To do this, we group by family_income_range and take the count of responders in each income range. First, let's exclude invaliid entries"
      ],
      "metadata": {
        "id": "TVSLFVQh7TgL"
      }
    },
    {
      "cell_type": "code",
      "source": [
        "cps_incomerange_valid = cps_2017_df.filter(col(\"family_income_range\") != \"INVALID ENTRY\")\n",
        "\n",
        "family_income_range_count = cps_incomerange_valid.groupBy(\"family_income_range\").count()\n",
        "\n",
        "family_income_range_count.show(truncate=False) # To show all, truncate=False\n"
      ],
      "metadata": {
        "colab": {
          "base_uri": "https://localhost:8080/"
        },
        "id": "nQZuwyFv6p12",
        "outputId": "f14bf251-f869-4294-bf17-2464ade6a6e2"
      },
      "execution_count": null,
      "outputs": [
        {
          "output_type": "stream",
          "name": "stdout",
          "text": [
            "+--------------------+-----+\n",
            "|family_income_range |count|\n",
            "+--------------------+-----+\n",
            "|$35,000 TO $39,999  |6620 |\n",
            "|$5,000 TO $7,499    |1625 |\n",
            "|$30,000 TO $34,999  |6743 |\n",
            "|$7,500 TO $9,999    |2277 |\n",
            "|$25,000 TO $29,999  |5803 |\n",
            "|$20,000 TO $24,999  |6312 |\n",
            "|$10,000 TO $12,499  |3161 |\n",
            "|$50,000 TO $59,999  |9971 |\n",
            "|$40,000 TO $49,999  |9788 |\n",
            "|LESS THAN $5,000    |3136 |\n",
            "|$12,500 TO $14,999  |2614 |\n",
            "|$75,000 TO $99,999  |16557|\n",
            "|$60,000 TO $74,999  |13442|\n",
            "|$100,000 TO $149,999|17794|\n",
            "|$150,000 OR MORE    |15704|\n",
            "|$15,000 TO $19,999  |4518 |\n",
            "+--------------------+-----+\n",
            "\n"
          ]
        }
      ]
    },
    {
      "cell_type": "markdown",
      "source": [
        "__Question 2__: What is the count of responders per geographical division/location and race\n",
        "\n",
        "Here, we group by both geographical division/location and race and then we count. We also first filter out invalid entries."
      ],
      "metadata": {
        "id": "OZ30_DR28v8G"
      }
    },
    {
      "cell_type": "code",
      "source": [
        "from pyspark.sql import functions as F\n",
        "\n",
        "division_race_valid = cps_2017_df.filter((col(\"geographical_division\") != \"INVALID ENTRY\") & (col(\"race\") != \"INVALID ENTRY\"))\n",
        "\n",
        "division_race_count = division_race_valid.groupBy(\"geographical_division\", \"race\").count()\n",
        "\n",
        "division_race_count_top_10 = division_race_count.orderBy(F.desc(\"count\")).limit(10)\n",
        "\n",
        "division_race_count_top_10.show()"
      ],
      "metadata": {
        "colab": {
          "base_uri": "https://localhost:8080/"
        },
        "id": "XnGiFJ2n8vMX",
        "outputId": "6fc0937d-e4b1-46df-e0c6-cd641d165d75"
      },
      "execution_count": null,
      "outputs": [
        {
          "output_type": "stream",
          "name": "stdout",
          "text": [
            "+---------------------+----------+-----+\n",
            "|geographical_division|      race|count|\n",
            "+---------------------+----------+-----+\n",
            "|       SOUTH ATLANTIC|White Only|16999|\n",
            "|             MOUNTAIN|White Only|14343|\n",
            "|              PACIFIC|White Only|13214|\n",
            "|   EAST NORTH CENTRAL|White Only|11325|\n",
            "|   WEST SOUTH CENTRAL|White Only|11248|\n",
            "|   WEST NORTH CENTRAL|White Only| 9884|\n",
            "|      MIDDLE ATLANTIC|White Only| 8487|\n",
            "|          NEW ENGLAND|White Only| 8410|\n",
            "|   EAST SOUTH CENTRAL|White Only| 6580|\n",
            "|       SOUTH ATLANTIC|Black Only| 4899|\n",
            "+---------------------+----------+-----+\n",
            "\n"
          ]
        }
      ]
    },
    {
      "cell_type": "markdown",
      "source": [
        "__Question 3: How many responders do not have telephone in their house, but can access\n",
        "a telephone elsewhere and telephone interview is accepted?__"
      ],
      "metadata": {
        "id": "q9Qyhbx_AlNR"
      }
    },
    {
      "cell_type": "code",
      "source": [
        "df_filtered = cps_2017_df.filter(         # Not forgeting to filter out invalid entries\n",
        "    (col(\"telephone_in_household\") != \"INVALID ENTRY\") &\n",
        "    (col(\"telephone_accessible_elsewhere\") != \"INVALID ENTRY\") &\n",
        "    (col(\"telephone_interview_acceptable\") != \"INVALID ENTRY\")\n",
        ")\n",
        "\n",
        "\n",
        "telephone_responders_filtered = df_filtered.filter(\n",
        "    (col(\"telephone_in_household\") == \"NO\") &\n",
        "    (col(\"telephone_accessible_elsewhere\") == \"YES\") &\n",
        "    (col(\"telephone_interview_acceptable\") == \"YES\")\n",
        ")\n",
        "\n",
        "# Computing the count\n",
        "responders_count = telephone_responders_filtered.count()\n",
        "\n",
        "# Printing result\n",
        "print(responders_count, \"responders do not have a telephone in their house but can access elsewhere and telephone interview is accepted:\")\n"
      ],
      "metadata": {
        "colab": {
          "base_uri": "https://localhost:8080/"
        },
        "id": "_pz0tgZuAYrw",
        "outputId": "d768059e-6009-47b7-ed21-f73fbc8d1cce"
      },
      "execution_count": null,
      "outputs": [
        {
          "output_type": "stream",
          "name": "stdout",
          "text": [
            "633 responders do not have a telephone in their house but can access elsewhere and telephone interview is accepted:\n"
          ]
        }
      ]
    },
    {
      "cell_type": "markdown",
      "source": [
        "__Question 4__: How many responders can access a telephone, but telephone interview is not accepted?__"
      ],
      "metadata": {
        "id": "CZ3yGqRfBoZx"
      }
    },
    {
      "cell_type": "code",
      "source": [
        "filtered_df = cps_2017_df.filter(\n",
        "    (col(\"telephone_in_household\") != \"INVALID ENTRY\") &\n",
        "    (col(\"telephone_accessible_elsewhere\") != \"INVALID ENTRY\") &\n",
        "    (col(\"telephone_interview_acceptable\") != \"INVALID ENTRY\")\n",
        ")\n",
        "\n",
        "filtered_responders = filtered_df.filter(\n",
        "    (col(\"telephone_in_household\") == \"YES\") |\n",
        "    (col(\"telephone_accessible_elsewhere\") == \"YES\") &\n",
        "    (col(\"telephone_interview_acceptable\") == \"NO\")\n",
        ")\n",
        "\n",
        "num_of_responders = filtered_responders.count()\n",
        "\n",
        "print(num_of_responders, \"responders can access a telephone but telephone interview is not accepted:\")\n"
      ],
      "metadata": {
        "id": "gNHlBnqX6m2F",
        "colab": {
          "base_uri": "https://localhost:8080/"
        },
        "outputId": "4d6fe345-cac9-4286-e4dd-8a4c8a72dce5"
      },
      "execution_count": null,
      "outputs": [
        {
          "output_type": "stream",
          "name": "stdout",
          "text": [
            "4231 responders can access a telephone but telephone interview is not accepted:\n"
          ]
        }
      ]
    }
  ]
}